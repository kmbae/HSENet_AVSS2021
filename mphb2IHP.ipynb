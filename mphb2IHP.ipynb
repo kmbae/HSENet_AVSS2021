{
 "cells": [
  {
   "cell_type": "code",
   "execution_count": 1,
   "metadata": {},
   "outputs": [],
   "source": [
    "%matplotlib inline\n",
    "from pycocotools.coco import COCO\n",
    "import numpy as np\n",
    "import skimage.io as io\n",
    "import matplotlib.pyplot as plt\n",
    "import pylab\n",
    "import datetime\n",
    "import tqdm\n",
    "import json\n",
    "import random\n",
    "from PIL import Image, ImageFile\n",
    "#ImageFile.LOAD_TRUNCATED_IMAGES = False\n",
    "from random import shuffle\n",
    "import numpy as np\n",
    "import os\n",
    "import glob\n",
    "import shutil\n",
    "import io\n",
    "pylab.rcParams['figure.figsize'] = (8.0, 10.0)\n",
    "#broken_images = ['mphb17858.jpg', 'mphb02317.jpg', 'mphb08418.jpg']"
   ]
  },
  {
   "cell_type": "code",
   "execution_count": 2,
   "metadata": {},
   "outputs": [],
   "source": [
    "def print_coco_info(coco):# load and display instance annotations\n",
    "    imgIds = coco.getImgIds();\n",
    "    print(\"# of images: {}\".format(len(imgIds)))\n",
    "    # display COCO categories and supercategories\n",
    "    cats = coco.loadCats(coco.getCatIds())\n",
    "    names=[cat['name'] for cat in cats]\n",
    "    ids = [cat['id'] for cat in cats]\n",
    "\n",
    "    print('COCO categories: \\n')\n",
    "    for cat in cats:\n",
    "        print('id: {}, name: {}, instances: {}'.format(cat['id'], cat['name'], len(coco.getAnnIds(catIds=cat['id'], iscrowd=None))))\n",
    "\n",
    "    nms = set([cat['supercategory'] for cat in cats])\n",
    "    print('COCO supercategories: \\n{}\\n'.format(' '.join(nms)))"
   ]
  },
  {
   "cell_type": "code",
   "execution_count": 3,
   "metadata": {},
   "outputs": [
    {
     "name": "stdout",
     "output_type": "stream",
     "text": [
      "loading annotations into memory...\n",
      "Done (t=1.17s)\n",
      "creating index...\n",
      "index created!\n",
      "# of images: 25076\n",
      "COCO categories: \n",
      "\n",
      "id: 1, name: Walking, instances: 6257\n",
      "id: 2, name: Crouch, instances: 9552\n",
      "id: 3, name: Lying, instances: 2322\n",
      "id: 4, name: Standing, instances: 18920\n",
      "id: 5, name: Running, instances: 2607\n",
      "id: 6, name: Sitting, instances: 9480\n",
      "COCO supercategories: \n",
      "person\n",
      "\n",
      "loading annotations into memory...\n",
      "Done (t=0.11s)\n",
      "creating index...\n",
      "index created!\n",
      "# of images: 3000\n",
      "COCO categories: \n",
      "\n",
      "id: 1, name: Walking, instances: 670\n",
      "id: 2, name: Crouch, instances: 1123\n",
      "id: 3, name: Lying, instances: 258\n",
      "id: 4, name: Standing, instances: 2203\n",
      "id: 5, name: Running, instances: 286\n",
      "id: 6, name: Sitting, instances: 1190\n",
      "COCO supercategories: \n",
      "person\n",
      "\n"
     ]
    }
   ],
   "source": [
    "# IHP 2021 release\n",
    "IHP_train_dir = 'IHP2021/train2021/'\n",
    "IHP_test_dir = 'IHP2021/test2021/'\n",
    "\n",
    "annFile_train='IHP2021/annotations/instances_IHP_train2021.json'\n",
    "coco_train = COCO(annFile_train)\n",
    "print_coco_info(coco_train)\n",
    "\n",
    "annFile_test='IHP2021/annotations/instances_IHP_test2021.json'\n",
    "coco_test = COCO(annFile_test)\n",
    "print_coco_info(coco_test)\n",
    "\n",
    "# mphb dataset\n",
    "mphb_dir = 'Human Body Image'"
   ]
  },
  {
   "cell_type": "code",
   "execution_count": 4,
   "metadata": {},
   "outputs": [],
   "source": [
    "img_list_train = []\n",
    "imgIds = coco_train.getImgIds()\n",
    "for imgId in imgIds:\n",
    "    img = coco_train.loadImgs(imgId)\n",
    "    img_list_train.append(img[0]['file_name'])\n",
    "\n",
    "img_list_test = []\n",
    "imgIds = coco_test.getImgIds()\n",
    "for imgId in imgIds:\n",
    "    img = coco_test.loadImgs(imgId)\n",
    "    img_list_test.append(img[0]['file_name'])\n"
   ]
  },
  {
   "cell_type": "code",
   "execution_count": 5,
   "metadata": {},
   "outputs": [
    {
     "data": {
      "text/plain": [
       "25076"
      ]
     },
     "execution_count": 5,
     "metadata": {},
     "output_type": "execute_result"
    }
   ],
   "source": [
    "len(img_list_train)"
   ]
  },
  {
   "cell_type": "code",
   "execution_count": 6,
   "metadata": {},
   "outputs": [
    {
     "data": {
      "text/plain": [
       "3000"
      ]
     },
     "execution_count": 6,
     "metadata": {},
     "output_type": "execute_result"
    }
   ],
   "source": [
    "len(img_list_test)"
   ]
  },
  {
   "cell_type": "code",
   "execution_count": 7,
   "metadata": {},
   "outputs": [],
   "source": [
    "img_train_files = os.listdir('IHP2021/train2021/')\n",
    "for img_name in img_list_train:\n",
    "    if img_name in img_train_files:\n",
    "        continue\n",
    "    img_name = img_name.split('mphb')[1]\n",
    "    \n",
    "    img_path = \"{}/{}\".format(mphb_dir, img_name)\n",
    "    \n",
    "    if os.path.exists(img_path):\n",
    "        shutil.copyfile(img_path, '{}/mphb{}'.format(IHP_train_dir, img_name))\n",
    "            "
   ]
  },
  {
   "cell_type": "code",
   "execution_count": 8,
   "metadata": {},
   "outputs": [],
   "source": [
    "img_test_files = os.listdir('IHP2021/test2021/')\n",
    "for img_name in img_list_test:\n",
    "    if img_name in img_test_files:\n",
    "        continue\n",
    "    img_name = img_name.split('mphb')[1]\n",
    "    \n",
    "    img_path = \"{}/{}\".format(mphb_dir, img_name)\n",
    "    \n",
    "    if os.path.exists(img_path):\n",
    "        shutil.copy(img_path, '{}/mphb{}'.format(IHP_test_dir, img_name))\n",
    "            "
   ]
  },
  {
   "cell_type": "code",
   "execution_count": 9,
   "metadata": {},
   "outputs": [],
   "source": [
    "for img_name in img_list_train:\n",
    "    Image.open('{}/{}'.format(IHP_train_dir, img_name))"
   ]
  },
  {
   "cell_type": "code",
   "execution_count": 10,
   "metadata": {},
   "outputs": [],
   "source": [
    "for img_name in img_list_test:\n",
    "    Image.open('{}/{}'.format(IHP_test_dir, img_name))"
   ]
  },
  {
   "cell_type": "code",
   "execution_count": null,
   "metadata": {},
   "outputs": [],
   "source": []
  }
 ],
 "metadata": {
  "kernelspec": {
   "display_name": "Python 3",
   "language": "python",
   "name": "python3"
  },
  "language_info": {
   "codemirror_mode": {
    "name": "ipython",
    "version": 3
   },
   "file_extension": ".py",
   "mimetype": "text/x-python",
   "name": "python",
   "nbconvert_exporter": "python",
   "pygments_lexer": "ipython3",
   "version": "3.6.7"
  }
 },
 "nbformat": 4,
 "nbformat_minor": 1
}
